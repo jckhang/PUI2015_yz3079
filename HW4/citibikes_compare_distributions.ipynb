{
 "cells": [
  {
   "cell_type": "code",
   "execution_count": 1,
   "metadata": {
    "collapsed": false,
    "scrolled": true
   },
   "outputs": [
    {
     "name": "stdout",
     "output_type": "stream",
     "text": [
      "Populating the interactive namespace from numpy and matplotlib\n"
     ]
    },
    {
     "name": "stderr",
     "output_type": "stream",
     "text": [
      "/Users/fbianco/Library/Enthought/Canopy_64bit/User/lib/python2.7/site-packages/matplotlib/__init__.py:855: UserWarning: svg.embed_char_paths is deprecated and replaced with svg.fonttype; please use the latter.\n",
      "  warnings.warn(self.msg_depr % (key, alt_key))\n"
     ]
    }
   ],
   "source": [
    "import pylab as pl\n",
    "import pandas as pd\n",
    "import numpy as np\n",
    "%pylab inline\n",
    "\n",
    "import os\n",
    "\n",
    "import json\n",
    "s = json.load( open(os.getenv ('PUI2015')+\"/fbb_matplotlibrc.json\") )\n",
    "pl.rcParams.update(s)\n"
   ]
  },
  {
   "cell_type": "code",
   "execution_count": null,
   "metadata": {
    "collapsed": false,
    "scrolled": false
   },
   "outputs": [],
   "source": [
    "df=pd.read_csv(os.getenv ('PUI2015')+'/notebooks/data/201501-citibike-tripdata.csv')\n"
   ]
  },
  {
   "cell_type": "code",
   "execution_count": null,
   "metadata": {
    "collapsed": false
   },
   "outputs": [],
   "source": [
    "#df is the dataframe where the content of the csv file is stored\n",
    "\n",
    "df['ageM'] = 2015-df['birth year'][(df['usertype']=='Subscriber') & (df['gender']==1)]\n",
    "df['ageF'] = 2015-df['birth year'][(df['usertype']=='Subscriber') & (df['gender']==2)]\n",
    "\n",
    "\n",
    "#note that with dataframes i can refer to variables as dictionary keys, i.e. df['starttime'] or as attributes: df.starttime. \n",
    "df['ageM'].plot(kind='bar')\n",
    "df['ageF'].plot(kind='bar')"
   ]
  },
  {
   "cell_type": "code",
   "execution_count": null,
   "metadata": {
    "collapsed": false,
    "scrolled": false
   },
   "outputs": [],
   "source": [
    "#print df.ageS, df.ageS.cumsum()\n",
    "bins = np.arange(0, 99, 10)\n",
    "\n",
    "cs1=df.ageS.groupby(pd.cut(df.ageS, bins)).agg([count_nonzero]).cumsum()\n",
    "\n",
    "cs2=df.ageL.groupby(pd.cut(df.ageL, bins)).agg([count_nonzero]).cumsum()\n",
    "\n",
    "\n",
    "pl.plot(bins[:-1]+1.5, cs1/cs1.max())\n",
    "pl.plot(bins[:-1]+1.5, cs2/cs2.max())\n"
   ]
  },
  {
   "cell_type": "code",
   "execution_count": null,
   "metadata": {
    "collapsed": false,
    "scrolled": false
   },
   "outputs": [],
   "source": [
    "#print df.ageS, df.ageS.cumsum()\n",
    "bins = np.arange(0, 99, 10)\n",
    "cs1=df.ageS.groupby(pd.cut(df.ageS, bins)).agg([count_nonzero])\n",
    "\n",
    "cs1.plot(kind='bar')\n",
    "m=np.nanmean(df.ageS)\n",
    "s=np.std(df.ageS)\n",
    "print m, s\n",
    "def model( x) : \n",
    "    return 1./(s*np.sqrt(2*np.pi))*exp(-((x-m)/2./2./s)**2)\n",
    "\n",
    "print model(m), model(m-s), model(m+2)\n",
    "\n",
    "\n",
    "cs1.plot()\n",
    "pl.figure()\n",
    "pl.plot(bins,np.vectorize(model)(bins)*np.nansum(cs1))\n",
    "pl.figure()\n",
    "pl.plot(cs1.cumsum()/cs1.cumsum().max(),'g')\n",
    "pl.plot(model(bins[:-1]).cumsum()/model(bins[:-1]).cumsum().max(),'k')\n",
    "\n",
    "KS=np.nanmax(np.array(cs1.cumsum()/cs1.cumsum().max())-np.array(model(bins[:-1]).cumsum()/model(bins[:-1]).cumsum().max()))\n",
    "print KS"
   ]
  },
  {
   "cell_type": "code",
   "execution_count": 79,
   "metadata": {
    "collapsed": true
   },
   "outputs": [],
   "source": [
    "import scipy.stats"
   ]
  },
  {
   "cell_type": "code",
   "execution_count": 80,
   "metadata": {
    "collapsed": false,
    "scrolled": true
   },
   "outputs": [
    {
     "name": "stdout",
     "output_type": "stream",
     "text": [
      "ageS\n",
      "(0, 10]       NaN\n",
      "(10, 20]     2466\n",
      "(20, 30]    65411\n",
      "(30, 40]    87486\n",
      "(40, 50]    66152\n",
      "(50, 60]    43130\n",
      "(60, 70]    12478\n",
      "(70, 80]     1544\n",
      "(80, 90]       58\n",
      "Name: count_nonzero, dtype: float64\n",
      "2724.31470415 [ 0.576  0.656  0.787  0.918  1.092] [ 15.   10.    5.    2.5   1. ]\n",
      "0.222850321743 [ 0.574  0.653  0.784  0.914  1.088] [ 15.   10.    5.    2.5   1. ]\n",
      "2.48454892919 [ 0.576  0.656  0.787  0.918  1.092] [ 15.   10.    5.    2.5   1. ]\n"
     ]
    }
   ],
   "source": [
    "print cs1.count_nonzero\n",
    "A, crit, sig = scipy.stats.anderson(df.ageS[~np.isnan(df.ageS)], dist='norm')\n",
    "print A, crit, sig\n",
    "A, crit, sig = scipy.stats.anderson(np.random.randn(1000), dist='norm')\n",
    "print A, crit, sig\n",
    "A, crit, sig = scipy.stats.anderson(np.random.chisquare(1000,10000), dist='norm')\n",
    "print A, crit, sig"
   ]
  },
  {
   "cell_type": "code",
   "execution_count": 90,
   "metadata": {
    "collapsed": false
   },
   "outputs": [
    {
     "name": "stdout",
     "output_type": "stream",
     "text": [
      "KstestResult(statistic=1.0, pvalue=0.0)\n",
      "\n",
      "KstestResult(statistic=0.037139935895719289, pvalue=0.1236125736828908)\n",
      "\n",
      "KstestResult(statistic=1.0, pvalue=0.0)\n",
      "\n",
      "KstestResult(statistic=0.99605010196836985, pvalue=0.0)\n",
      "\n"
     ]
    }
   ],
   "source": [
    "ks=scipy.stats.kstest(df.ageS[~np.isnan(df.ageS)],'norm')\n",
    "print ks\n",
    "print \"\"\n",
    "ks = scipy.stats.kstest(np.random.randn(1000), 'norm')\n",
    "print ks\n",
    "print \"\"\n",
    "ks = scipy.stats.kstest(np.random.chisquare(1000,10000), 'norm')\n",
    "print ks\n",
    "print \"\"\n",
    "ks = scipy.stats.kstest(np.random.poisson(10,10000), 'norm')\n",
    "print ks\n",
    "print \"\"\n"
   ]
  },
  {
   "cell_type": "code",
   "execution_count": 142,
   "metadata": {
    "collapsed": false
   },
   "outputs": [
    {
     "name": "stdout",
     "output_type": "stream",
     "text": [
      "-40.1949736318\n"
     ]
    },
    {
     "data": {
      "image/png": "[encoded data removed]",
      "text/plain": [
       "<matplotlib.figure.Figure at 0x114ed25d0>"
      ]
     },
     "metadata": {},
     "output_type": "display_data"
    }
   ],
   "source": [
    "q = lambda x, mu : scipy.stats.distributions.norm.pdf(x-mu)\n",
    "p = lambda x, mu : scipy.stats.distributions.chi2.pdf(x, df=mu)\n",
    "Dkl = lambda x ,mu :  p(x, mu)* np.log10(q(x, mu))+p(x, mu) *np.log10(p(x, mu))\n",
    "\n",
    "x=np.linspace(-10,10,100)\n",
    "pl.plot(x,q(x,1), 'k')\n",
    "pl.plot(x, p(x,1), 'r')\n",
    "pl.plot(x,Dkl(x,1))\n",
    "print np.nansum(Dkl(np.linspace(0,30,1000), 1))\n"
   ]
  },
  {
   "cell_type": "code",
   "execution_count": 138,
   "metadata": {
    "collapsed": false
   },
   "outputs": [
    {
     "name": "stdout",
     "output_type": "stream",
     "text": [
      "-60.0531063492\n"
     ]
    },
    {
     "data": {
      "image/png": "[encoded data removed]",
      "text/plain": [
       "<matplotlib.figure.Figure at 0x10e615310>"
      ]
     },
     "metadata": {},
     "output_type": "display_data"
    }
   ],
   "source": [
    "\n",
    "\n",
    "x=np.linspace(70,130,1000)\n",
    "x=np.linspace(70,130,1000)\n",
    "pl.plot(x,q(x, 100), 'k')\n",
    "pl.plot(x, p(x, 100), 'r')\n",
    "pl.plot(x,Dkl(x, 100))\n",
    "print np.nansum(Dkl(np.linspace(70,130,100), 100))\n"
   ]
  },
  {
   "cell_type": "code",
   "execution_count": null,
   "metadata": {
    "collapsed": true
   },
   "outputs": [],
   "source": []
  }
 ],
 "metadata": {
  "kernelspec": {
   "display_name": "Python 2",
   "language": "python",
   "name": "python2"
  },
  "language_info": {
   "codemirror_mode": {
    "name": "ipython",
    "version": 2
   },
   "file_extension": ".py",
   "mimetype": "text/x-python",
   "name": "python",
   "nbconvert_exporter": "python",
   "pygments_lexer": "ipython2",
   "version": "2.7.3"
  }
 },
 "nbformat": 4,
 "nbformat_minor": 0
}
