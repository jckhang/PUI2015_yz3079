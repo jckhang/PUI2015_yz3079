{
 "cells": [
  {
   "cell_type": "markdown",
   "metadata": {},
   "source": [
    "# Citibike Stations' Inflow/Outflow Ratio\n",
    "Group Members:\n",
    "Cindy Y. Liu, Yuxiang Zhang"
   ]
  },
  {
   "cell_type": "code",
   "execution_count": 74,
   "metadata": {
    "collapsed": false
   },
   "outputs": [
    {
     "name": "stdout",
     "output_type": "stream",
     "text": [
      "Populating the interactive namespace from numpy and matplotlib\n"
     ]
    }
   ],
   "source": [
    "#Load Default settings\n",
    "import pylab as pl\n",
    "import pandas as pd\n",
    "import numpy as np\n",
    "%pylab inline\n",
    "import os\n",
    "import json\n",
    "from matplotlib import gridspec\n",
    "s = json.load( open(os.getenv ('PUI2015')+\"/fbb_matplotlibrc.json\") )\n",
    "pl.rcParams.update(s)"
   ]
  },
  {
   "cell_type": "code",
   "execution_count": 49,
   "metadata": {
    "collapsed": true
   },
   "outputs": [],
   "source": [
    "# Load Citibike data\n",
    "df = pd.read_csv(os.getenv ('PUI2015')+'/data/201508-citibike-tripdata.csv')"
   ]
  },
  {
   "cell_type": "code",
   "execution_count": 50,
   "metadata": {
    "collapsed": false
   },
   "outputs": [],
   "source": [
    "# Drop unnecessary features\n",
    "df = df.drop(['tripduration','starttime','stoptime'],axis=1)"
   ]
  },
  {
   "cell_type": "code",
   "execution_count": 51,
   "metadata": {
    "collapsed": true
   },
   "outputs": [],
   "source": [
    "## Store the information of stations into a csv file. including longitude latitude, and id\n",
    "start = pd.DataFrame({'ID': df['start station id'], \\\n",
    "                    'Latitude': df['start station latitude'],\\\n",
    "                    'Longitude':df['start station longitude']})\n",
    "end = pd.DataFrame({'ID': df['end station id'], \\\n",
    "                    'Latitude': df['end station latitude'],\\\n",
    "                    'Longitude':df['end station longitude']})\n",
    "merged = pd.concat([start,end],axis=0)\n",
    "merged = merged.drop_duplicates('ID')\n",
    "merged.to_csv('station.csv')   "
   ]
  },
  {
   "cell_type": "markdown",
   "metadata": {},
   "source": [
    "We use the ** Geopy ** to [Reverse geocoding](https://en.wikipedia.org/wiki/Reverse_geocoding) the latitude and longitude information into a real street information. "
   ]
  },
  {
   "cell_type": "code",
   "execution_count": null,
   "metadata": {
    "collapsed": true
   },
   "outputs": [],
   "source": [
    "from geopy.geocoders import Nominatim\n",
    "import numpy as np\n",
    "output= np.empty(len(stations), dtype='object')\n",
    "for index,station in stations.iterrows():\n",
    "    geolocator = Nominatim()\n",
    "    location = geolocator.reverse(\"%s,%s\"%(str(station['Latitude']), str(station['Longitude'])),timeout=10)\n",
    "    if location.raw[\"address\"][\"county\"]==\"New York County\"or location.raw[\"address\"][\"county\"]==\"New York\":\n",
    "        output[index]=\"Manhattan\"\n",
    "    else:\n",
    "        if location.raw[\"address\"][\"county\"]==\"Kings County\":\n",
    "            output[index]=\"Brooklyn\"\n",
    "        else:\n",
    "            if location.raw[\"address\"][\"county\"]==\"Queens County\":\n",
    "                output[index]=\"Queens\"\n",
    "            else:\n",
    "                output[index]=location.raw[\"address\"][\"county\"]"
   ]
  },
  {
   "cell_type": "markdown",
   "metadata": {},
   "source": [
    "We get the borough information for each Citibike station and store the information into the stationbyborough.csv"
   ]
  },
  {
   "cell_type": "code",
   "execution_count": null,
   "metadata": {
    "collapsed": true
   },
   "outputs": [],
   "source": [
    "output.tofile('output.csv',sep='\\n')"
   ]
  },
  {
   "cell_type": "code",
   "execution_count": 53,
   "metadata": {
    "collapsed": true
   },
   "outputs": [],
   "source": [
    "stations_by_borough=pd.read_csv('data/stationbyborough.csv')"
   ]
  },
  {
   "cell_type": "code",
   "execution_count": 71,
   "metadata": {
    "collapsed": false
   },
   "outputs": [],
   "source": [
    "in_jour = np.zeros(len(stations_by_borough))\n",
    "out_jour = np.copy(in_jour)\n",
    "in_out_ratio = np.copy(in_jour)"
   ]
  },
  {
   "cell_type": "code",
   "execution_count": 57,
   "metadata": {
    "collapsed": false
   },
   "outputs": [],
   "source": [
    "# Iterate through all the stations to get the total inflow and outflow information of each station\n",
    "for index,station in stations_by_borough.iterrows():\n",
    "    start=sum(df['start station id']==station['id'])\n",
    "    end=sum(df['end station id']==station['id'])\n",
    "    in_jour[index]=start\n",
    "    out_jour[index]=end\n",
    "    in_out_ratio[index]=start/float(end+start)"
   ]
  },
  {
   "cell_type": "code",
   "execution_count": 62,
   "metadata": {
    "collapsed": true
   },
   "outputs": [],
   "source": [
    "# Create a new data frame which includes all the inflow and outflow information of each station\n",
    "results = pd.DataFrame({'sid':stations_by_borough['id'],\\\n",
    "                      'income':in_jour,\\\n",
    "                      'outcome':out_jour,\\\n",
    "                      'ratio':fluid_ratio,\\\n",
    "                      'borough':stations_by_borough['BoroName']})\n",
    "cols = ['sid','income','outcome','ratio','borough']\n",
    "results = results[cols]\n",
    "results.to_csv('result.csv')"
   ]
  },
  {
   "cell_type": "code",
   "execution_count": 63,
   "metadata": {
    "collapsed": false
   },
   "outputs": [
    {
     "data": {
      "text/html": [
       "<div>\n",
       "<table border=\"1\" class=\"dataframe\">\n",
       "  <thead>\n",
       "    <tr style=\"text-align: right;\">\n",
       "      <th></th>\n",
       "      <th>sid</th>\n",
       "      <th>income</th>\n",
       "      <th>outcome</th>\n",
       "      <th>ratio</th>\n",
       "    </tr>\n",
       "  </thead>\n",
       "  <tbody>\n",
       "    <tr>\n",
       "      <th>count</th>\n",
       "      <td>421.000000</td>\n",
       "      <td>421.000000</td>\n",
       "      <td>421.000000</td>\n",
       "      <td>421.000000</td>\n",
       "    </tr>\n",
       "    <tr>\n",
       "      <th>mean</th>\n",
       "      <td>1020.299287</td>\n",
       "      <td>2800.579572</td>\n",
       "      <td>2800.579572</td>\n",
       "      <td>0.496943</td>\n",
       "    </tr>\n",
       "    <tr>\n",
       "      <th>std</th>\n",
       "      <td>1143.676593</td>\n",
       "      <td>2478.491485</td>\n",
       "      <td>2437.574067</td>\n",
       "      <td>0.041569</td>\n",
       "    </tr>\n",
       "    <tr>\n",
       "      <th>min</th>\n",
       "      <td>72.000000</td>\n",
       "      <td>0.000000</td>\n",
       "      <td>1.000000</td>\n",
       "      <td>0.000000</td>\n",
       "    </tr>\n",
       "    <tr>\n",
       "      <th>25%</th>\n",
       "      <td>317.000000</td>\n",
       "      <td>674.000000</td>\n",
       "      <td>684.000000</td>\n",
       "      <td>0.492572</td>\n",
       "    </tr>\n",
       "    <tr>\n",
       "      <th>50%</th>\n",
       "      <td>434.000000</td>\n",
       "      <td>2486.000000</td>\n",
       "      <td>2419.000000</td>\n",
       "      <td>0.498966</td>\n",
       "    </tr>\n",
       "    <tr>\n",
       "      <th>75%</th>\n",
       "      <td>2001.000000</td>\n",
       "      <td>4276.000000</td>\n",
       "      <td>4296.000000</td>\n",
       "      <td>0.504762</td>\n",
       "    </tr>\n",
       "    <tr>\n",
       "      <th>max</th>\n",
       "      <td>3224.000000</td>\n",
       "      <td>14498.000000</td>\n",
       "      <td>11912.000000</td>\n",
       "      <td>0.654886</td>\n",
       "    </tr>\n",
       "  </tbody>\n",
       "</table>\n",
       "</div>"
      ],
      "text/plain": [
       "               sid        income       outcome       ratio\n",
       "count   421.000000    421.000000    421.000000  421.000000\n",
       "mean   1020.299287   2800.579572   2800.579572    0.496943\n",
       "std    1143.676593   2478.491485   2437.574067    0.041569\n",
       "min      72.000000      0.000000      1.000000    0.000000\n",
       "25%     317.000000    674.000000    684.000000    0.492572\n",
       "50%     434.000000   2486.000000   2419.000000    0.498966\n",
       "75%    2001.000000   4276.000000   4296.000000    0.504762\n",
       "max    3224.000000  14498.000000  11912.000000    0.654886"
      ]
     },
     "execution_count": 63,
     "metadata": {},
     "output_type": "execute_result"
    }
   ],
   "source": [
    "results.describe()"
   ]
  },
  {
   "cell_type": "code",
   "execution_count": 64,
   "metadata": {
    "collapsed": false
   },
   "outputs": [
    {
     "data": {
      "text/plain": [
       "Manhattan    262\n",
       "Brooklyn     148\n",
       "Queens        11\n",
       "dtype: int64"
      ]
     },
     "execution_count": 64,
     "metadata": {},
     "output_type": "execute_result"
    }
   ],
   "source": [
    "pd.value_counts(results['borough'].values.ravel())"
   ]
  },
  {
   "cell_type": "markdown",
   "metadata": {},
   "source": [
    "## Statistic Analysis"
   ]
  },
  {
   "cell_type": "code",
   "execution_count": 65,
   "metadata": {
    "collapsed": false
   },
   "outputs": [
    {
     "data": {
      "text/plain": [
       "<matplotlib.text.Text at 0x10aaadad0>"
      ]
     },
     "execution_count": 65,
     "metadata": {},
     "output_type": "execute_result"
    },
    {
     "data": {
      "image/png": "[encoded data removed]",
      "text/plain": [
       "<matplotlib.figure.Figure at 0x10a8415d0>"
      ]
     },
     "metadata": {},
     "output_type": "display_data"
    }
   ],
   "source": [
    "results=pd.read_csv('result.csv')\n",
    "manhattan=results[results['borough']=='Manhattan']\n",
    "brooklyn=results[results['borough']=='Brooklyn']\n",
    "\n",
    "norm_m = 1\n",
    "norm_b = 1\n",
    "\n",
    "error_m = np.sqrt(manhattan['ratio'].count())\n",
    "error_b = np.sqrt(brooklyn['ratio'].count())\n",
    "fig = pl.figure(figsize(10,10))\n",
    "manhattan['ratio'].plot(kind=\"hist\",yerr=[((error_m)/norm_m,(error_m)/norm_m)],\\\n",
    "                        bins=30,color='IndianRed', alpha=0.5,label='Manhattan Stations',normed=1)\n",
    "brooklyn['ratio'].plot(kind=\"hist\",yerr=[((error_b)/norm_b,(error_b)/norm_b)],\\\n",
    "                       bins=30, alpha=0.5,label='Brooklyn Stations',normed=1)\n",
    "pl.legend(['Brooklyn Stations','Manhattan Stations'],fontsize=15)\n",
    "pl.title('Stations\\' Inflow/Outflow Rate by Borough' )"
   ]
  },
  {
   "cell_type": "code",
   "execution_count": 87,
   "metadata": {
    "collapsed": false
   },
   "outputs": [
    {
     "data": {
      "text/plain": [
       "<matplotlib.text.Text at 0x10d3bd650>"
      ]
     },
     "execution_count": 87,
     "metadata": {},
     "output_type": "execute_result"
    },
    {
     "data": {
      "image/png": "[encoded data removed]",
      "text/plain": [
       "<matplotlib.figure.Figure at 0x10cd92610>"
      ]
     },
     "metadata": {},
     "output_type": "display_data"
    }
   ],
   "source": [
    "fig=pl.figure(figsize(10,10))\n",
    "gs = gridspec.GridSpec(2, 1)\n",
    "ax = fig.add_subplot(gs[0,0])\n",
    "manhattan['ratio'].plot(kind=\"hist\",yerr=[((error_m)/norm_m,(error_m)/norm_m)],\\\n",
    "                        bins=30,color='IndianRed', alpha=0.5,normed=1)\n",
    "ax.set_title('Manhattan Stations')\n",
    "bx = fig.add_subplot(gs[1,0])\n",
    "brooklyn['ratio'].plot(kind=\"hist\",yerr=[((error_b)/norm_b,(error_b)/norm_b)],\\\n",
    "                       bins=30, alpha=0.5,normed=1)\n",
    "bx.set_title('Brooklyn Stations')"
   ]
  },
  {
   "cell_type": "code",
   "execution_count": 40,
   "metadata": {
    "collapsed": false
   },
   "outputs": [
    {
     "data": {
      "text/plain": [
       "count    262.000000\n",
       "mean       0.496891\n",
       "std        0.046419\n",
       "min        0.000000\n",
       "25%        0.496087\n",
       "50%        0.499318\n",
       "75%        0.502410\n",
       "max        0.581790\n",
       "Name: ratio, dtype: float64"
      ]
     },
     "execution_count": 40,
     "metadata": {},
     "output_type": "execute_result"
    }
   ],
   "source": [
    "manhattan['ratio'].describe()"
   ]
  },
  {
   "cell_type": "code",
   "execution_count": 41,
   "metadata": {
    "collapsed": false
   },
   "outputs": [
    {
     "data": {
      "text/plain": [
       "count    148.000000\n",
       "mean       0.496576\n",
       "std        0.032732\n",
       "min        0.377960\n",
       "25%        0.480969\n",
       "50%        0.495208\n",
       "75%        0.512843\n",
       "max        0.654886\n",
       "Name: ratio, dtype: float64"
      ]
     },
     "execution_count": 41,
     "metadata": {},
     "output_type": "execute_result"
    }
   ],
   "source": [
    "brooklyn['ratio'].describe()"
   ]
  },
  {
   "cell_type": "markdown",
   "metadata": {},
   "source": [
    "# Hypothesis:\n",
    "\n",
    "Manhattan has less inflow riders than Brooklyn.¶"
   ]
  },
  {
   "cell_type": "markdown",
   "metadata": {},
   "source": [
    "# z test for mean ratio of two samples.\n",
    "\n",
    "$H_{0} : mean_m-mean_b>0$\n",
    "\n",
    "$H_{\\alpha}: mean_m-mean_b<=0$"
   ]
  },
  {
   "cell_type": "code",
   "execution_count": 42,
   "metadata": {
    "collapsed": false
   },
   "outputs": [],
   "source": [
    "mean_m=np.mean(manhattan['ratio'])\n",
    "mean_b=np.mean(brooklyn['ratio'])\n",
    "std_m=np.std(manhattan['ratio'])\n",
    "std_b=np.std(brooklyn['ratio'])\n",
    "n_m=len(manhattan)\n",
    "n_b=len(brooklyn)\n",
    "\n",
    "SE=lambda sd1,sd2,n1,n2: np.sqrt(sd1**2/float(n1)+sd2**2/float(n2))\n",
    "se=SE(std_m,std_b,n_m,n_b)"
   ]
  },
  {
   "cell_type": "code",
   "execution_count": 43,
   "metadata": {
    "collapsed": false
   },
   "outputs": [
    {
     "name": "stdout",
     "output_type": "stream",
     "text": [
      "0.0802738912184\n"
     ]
    }
   ],
   "source": [
    "z_1=(mean_m-mean_b)/se\n",
    "print z_1"
   ]
  },
  {
   "cell_type": "code",
   "execution_count": 44,
   "metadata": {
    "collapsed": false
   },
   "outputs": [
    {
     "name": "stdout",
     "output_type": "stream",
     "text": [
      "Is the p value 0.38 smaller than the critical value 0.05? \n",
      "No, the Null hypothesis is not rejected\n"
     ]
    }
   ],
   "source": [
    "p_1=0.5319\n",
    "alpha =0.05\n",
    "def report_result(p,a):\n",
    "    print 'Is the p value {0:.2f} smaller than the critical value {1:.2f}? '.format(p,a)\n",
    "\n",
    "    print '{0}, the Null hypothesis is {1}'.format( 'Yes' if p<a  else 'No','rejected'if p<a else'not rejected')\n",
    "\n",
    "    \n",
    "report_result(p_1,alpha)"
   ]
  },
  {
   "cell_type": "markdown",
   "metadata": {},
   "source": [
    "# Z test for the proportion of ration>1/ration_all in two samples.\n",
    "\n",
    "$H_{0} : p_m-p_b>0$\n",
    "\n",
    "$H_{\\alpha}: p_m-p_b<=0$"
   ]
  },
  {
   "cell_type": "code",
   "execution_count": 67,
   "metadata": {
    "collapsed": false
   },
   "outputs": [
    {
     "name": "stdout",
     "output_type": "stream",
     "text": [
      "(0.42366412213740456, 0.4391891891891892, 262, 148)\n",
      "0.305030069472\n"
     ]
    }
   ],
   "source": [
    "P_0=sum(manhattan['ratio']>=0.5)/float(len(manhattan))\n",
    "P_1=sum(brooklyn['ratio']>=0.5)/float(len(brooklyn))\n",
    "\n",
    "n_0=len(manhattan)\n",
    "n_1=len(brooklyn)\n",
    "\n",
    "Nt_0 = P_0*n_0\n",
    "Nt_1 = P_1*n_1\n",
    "print (P_0, P_1, n_0, n_1)\n",
    "\n",
    "# Pooled Sample Proportion\n",
    "psp=(P_0*n_0+P_1*n_1)/(n_1+n_0)\n",
    "\n",
    "SE= lambda p, n1, n2: np.sqrt(psp*(1-psp)*(1/float(n1)+1/float(n2)))\n",
    "\n",
    "se=SE(P_0,n_0,n_1)\n",
    "\n",
    "# Z-score\n",
    "zscore = lambda p0, p1, s : (p0-p1)/s\n",
    "z_2 = zscore(P_1, P_0, se)\n",
    "print(z_2)"
   ]
  },
  {
   "cell_type": "code",
   "execution_count": 13,
   "metadata": {
    "collapsed": false
   },
   "outputs": [
    {
     "name": "stdout",
     "output_type": "stream",
     "text": [
      "Is the p value 0.38 smaller than the critical value 0.05? \n",
      "No, the Null hypothesis is not rejected\n"
     ]
    }
   ],
   "source": [
    "p = 1 - 0.6179\n",
    "alpha =0.05\n",
    "def report_result(p,a):\n",
    "    print 'Is the p value {0:.2f} smaller than the critical value {1:.2f}? '.format(p,a)\n",
    "   \n",
    "    print '{0}, the Null hypothesis is {1}'.format( 'Yes' if p<a  else 'No','rejected'if p<a else'not rejected')\n",
    "\n",
    "    \n",
    "report_result(p,alpha)"
   ]
  }
 ],
 "metadata": {
  "kernelspec": {
   "display_name": "Python 2",
   "language": "python",
   "name": "python2"
  },
  "language_info": {
   "codemirror_mode": {
    "name": "ipython",
    "version": 2
   },
   "file_extension": ".py",
   "mimetype": "text/x-python",
   "name": "python",
   "nbconvert_exporter": "python",
   "pygments_lexer": "ipython2",
   "version": "2.7.10"
  }
 },
 "nbformat": 4,
 "nbformat_minor": 0
}
