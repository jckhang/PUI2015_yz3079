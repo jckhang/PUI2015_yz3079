{
 "cells": [
  {
   "cell_type": "markdown",
   "metadata": {},
   "source": [
    "# Citibike stations fluid rates\n",
    "Group Members:\n",
    "Cindy Y. Liu, Yuxiang Zhang"
   ]
  },
  {
   "cell_type": "code",
   "execution_count": 1,
   "metadata": {
    "collapsed": false
   },
   "outputs": [
    {
     "name": "stdout",
     "output_type": "stream",
     "text": [
      "Populating the interactive namespace from numpy and matplotlib\n"
     ]
    }
   ],
   "source": [
    "#Load Default settings\n",
    "import pylab as pl\n",
    "import pandas as pd\n",
    "import numpy as np\n",
    "%pylab inline\n",
    "import os\n",
    "import json\n",
    "s = json.load( open(os.getenv ('PUI2015')+\"/fbb_matplotlibrc.json\") )\n",
    "pl.rcParams.update(s)"
   ]
  },
  {
   "cell_type": "code",
   "execution_count": 2,
   "metadata": {
    "collapsed": true
   },
   "outputs": [],
   "source": [
    "# Load Citibike data\n",
    "df=pd.read_csv(os.getenv ('PUI2015')+'/data/201508-citibike-tripdata.csv')\n",
    "df['date'] = pd.to_datetime(df['starttime'])"
   ]
  },
  {
   "cell_type": "code",
   "execution_count": 76,
   "metadata": {
    "collapsed": false
   },
   "outputs": [],
   "source": [
    "# Drop unnecessary features\n",
    "df=df.drop(['tripduration','starttime','stoptime'],axis=1)"
   ]
  },
  {
   "cell_type": "code",
   "execution_count": 4,
   "metadata": {
    "collapsed": true
   },
   "outputs": [],
   "source": [
    "## Store the information of stations into a csv file. including longitude latitude, and id\n",
    "start=pd.DataFrame({'id': df['start station id'], \\\n",
    "                    'lat': df['start station latitude'],\\\n",
    "                    'lon':df['start station longitude']})\n",
    "end=pd.DataFrame({'id': df['end station id'], \\\n",
    "                    'lat': df['end station latitude'],\\\n",
    "                    'lon':df['end station longitude']})\n",
    "merged=pd.concat([start,end],axis=0)\n",
    "merged=merged.drop_duplicates('id')\n",
    "merged.to_csv('station.csv')   "
   ]
  },
  {
   "cell_type": "markdown",
   "metadata": {},
   "source": [
    "We use ArcGis to reverse Geocoding the latitude and longitude information into a real street information. We get the borough information for each Citibike station and store the information into the stationbyborough.csv"
   ]
  },
  {
   "cell_type": "code",
   "execution_count": 5,
   "metadata": {
    "collapsed": true
   },
   "outputs": [],
   "source": [
    "import pandas as pd\n",
    "stations_by_borough=pd.read_csv('data/stationbyborough.csv')\n",
    "in_jour=np.zeros(len(stations_by_borough))\n",
    "out_jour=np.zeros(len(stations_by_borough))\n",
    "fluid_ratio=np.zeros(len(stations_by_borough))\n",
    "for index,station in stations_by_borough.iterrows():\n",
    "    s=sum(df['start station id']==station['id'])\n",
    "    e=sum(df['end station id']==station['id'])\n",
    "    in_jour[index]=s\n",
    "    out_jour[index]=e\n",
    "    fluid_ratio[index]=s/float(e)"
   ]
  },
  {
   "cell_type": "code",
   "execution_count": 6,
   "metadata": {
    "collapsed": true
   },
   "outputs": [],
   "source": [
    "results=pd.DataFrame({'sid':stations_by_borough['id'],\\\n",
    "                      'income':in_jour,\\\n",
    "                      'outcome':out_jour,\\\n",
    "                      'ratio':fluid_ratio,\\\n",
    "                      'borough':stations_by_borough['BoroName']})\n",
    "cols = ['sid','income','outcome','ratio','borough']\n",
    "results=results[cols]\n",
    "results.to_csv('result.csv')"
   ]
  },
  {
   "cell_type": "markdown",
   "metadata": {},
   "source": [
    "## Statistic Analysis"
   ]
  },
  {
   "cell_type": "code",
   "execution_count": 38,
   "metadata": {
    "collapsed": false
   },
   "outputs": [
    {
     "data": {
      "text/plain": [
       "<matplotlib.text.Text at 0x111a91110>"
      ]
     },
     "execution_count": 38,
     "metadata": {},
     "output_type": "execute_result"
    },
    {
     "data": {
      "image/png": "[encoded data removed]",
      "text/plain": [
       "<matplotlib.figure.Figure at 0x110c8cf90>"
      ]
     },
     "metadata": {},
     "output_type": "display_data"
    }
   ],
   "source": [
    "manhattan=results[results['borough']=='Manhattan']\n",
    "brooklyn=results[results['borough']=='Brooklyn']\n",
    "queens=results[results['borough']=='Queens']\n",
    "\n",
    "norm_m=1\n",
    "norm_b=1\n",
    "\n",
    "error_m=np.sqrt(manhattan['ratio'].count())\n",
    "error_b=np.sqrt(brooklyn['ratio'].count())\n",
    "fig=pl.figure(figsize(10,10))\n",
    "manhattan['ratio'].plot(kind=\"hist\",yerr=[((error_m)/norm_m,(error_m)/norm_m)],\\\n",
    "                        bins=30,color='IndianRed', alpha=0.5,label='Manhattan Stations')\n",
    "brooklyn['ratio'].plot(kind=\"hist\",yerr=[((error_b)/norm_b,(error_b)/norm_b)],\\\n",
    "                       bins=30, alpha=0.5,label='Brooklyn Stations')\n",
    "pl.legend(['Brooklyn Stations','Manhattan Stations'],fontsize=15)\n",
    "pl.title('Stations\\' Inflow/Outflow Rate by Borough' )"
   ]
  },
  {
   "cell_type": "markdown",
   "metadata": {},
   "source": [
    "# t test for mean ratio of two samples.\n",
    "\n",
    "$H_{0} : mean_m-mean_b>0$\n",
    "\n",
    "$H_{\\alpha}: mean_m-mean_b<=0$"
   ]
  },
  {
   "cell_type": "code",
   "execution_count": 72,
   "metadata": {
    "collapsed": false
   },
   "outputs": [
    {
     "name": "stdout",
     "output_type": "stream",
     "text": [
      "ttest_ind: t = 0.150304  p = 0.880645\n"
     ]
    }
   ],
   "source": [
    "import scipy.stats as ss\n",
    "mean_m=np.mean(manhattan['ratio'])\n",
    "mean_b=np.mean(brooklyn['ratio'])\n",
    "std_m=np.std(manhattan['ratio'])\n",
    "std_b=np.std(brooklyn['ratio'])\n",
    "n_m=len(manhattan)\n",
    "n_b=len(brooklyn)\n",
    "\n",
    "t, p=ss.ttest_ind(manhattan['ratio'],brooklyn['ratio'],equal_var = False)\n",
    "print \"ttest_ind: t = %g  p = %g\" % (t, p)"
   ]
  },
  {
   "cell_type": "code",
   "execution_count": 73,
   "metadata": {
    "collapsed": false
   },
   "outputs": [
    {
     "name": "stdout",
     "output_type": "stream",
     "text": [
      "Is the p value 0.88 smaller than the critical value 0.05? \n",
      "No, the Null hypothesis is not rejected\n"
     ]
    }
   ],
   "source": [
    "alpha =0.05\n",
    "def report_result(p,a):\n",
    "    print 'Is the p value {0:.2f} smaller than the critical value {1:.2f}? '.format(p,a)\n",
    "   \n",
    "    print '{0}, the Null hypothesis is {1}'.format( 'Yes' if p<a  else 'No','rejected'if p<a else'not rejected')\n",
    "\n",
    "    \n",
    "report_result(p,alpha)"
   ]
  },
  {
   "cell_type": "markdown",
   "metadata": {},
   "source": [
    "# Z test for the proportion of ration>1/ration_all in two samples.\n",
    "\n",
    "$H_{0} : p_m-p_b>0$\n",
    "\n",
    "$H_{\\alpha}: p_m-p_b<=0$"
   ]
  },
  {
   "cell_type": "code",
   "execution_count": 68,
   "metadata": {
    "collapsed": false
   },
   "outputs": [
    {
     "name": "stdout",
     "output_type": "stream",
     "text": [
      "0.423664122137\n",
      "0.439189189189\n",
      "262\n",
      "148\n",
      "0.305030069472\n"
     ]
    }
   ],
   "source": [
    "P_0=sum(manhattan['ratio']>=1)/float(len(manhattan))\n",
    "P_1=sum(brooklyn['ratio']>=1)/float(len(brooklyn))\n",
    "\n",
    "n_0=len(manhattan)\n",
    "n_1=len(brooklyn)\n",
    "\n",
    "Nt_0=P_0*n_0\n",
    "Nt_1=P_1*n_1\n",
    "print P_0\n",
    "print P_1\n",
    "print n_0\n",
    "print n_1\n",
    "# Pooled Sample Proportion\n",
    "psp=(P_0*n_0+P_1*n_1)/(n_1+n_0)\n",
    "\n",
    "SE= lambda p, n1, n2: np.sqrt(psp*(1-psp)*(1/float(n1)+1/float(n2)))\n",
    "\n",
    "se=SE(P_0,n_0,n_1)\n",
    "\n",
    "# z score\n",
    "zscore = lambda p0, p1, s : (p0-p1)/s\n",
    "z = zscore(P_1, P_0, se)\n",
    "print(z)"
   ]
  },
  {
   "cell_type": "code",
   "execution_count": 70,
   "metadata": {
    "collapsed": false
   },
   "outputs": [
    {
     "name": "stdout",
     "output_type": "stream",
     "text": [
      "Is the p value 0.38 smaller than the critical value 0.05? \n",
      "No, the Null hypothesis is not rejected\n"
     ]
    }
   ],
   "source": [
    "p=1-0.6179\n",
    "alpha =0.05\n",
    "def report_result(p,a):\n",
    "    print 'Is the p value {0:.2f} smaller than the critical value {1:.2f}? '.format(p,a)\n",
    "   \n",
    "    print '{0}, the Null hypothesis is {1}'.format( 'Yes' if p<a  else 'No','rejected'if p<a else'not rejected')\n",
    "\n",
    "    \n",
    "report_result(p,alpha)"
   ]
  }
 ],
 "metadata": {
  "kernelspec": {
   "display_name": "Python 2",
   "language": "python",
   "name": "python2"
  },
  "language_info": {
   "codemirror_mode": {
    "name": "ipython",
    "version": 2
   },
   "file_extension": ".py",
   "mimetype": "text/x-python",
   "name": "python",
   "nbconvert_exporter": "python",
   "pygments_lexer": "ipython2",
   "version": "2.7.10"
  }
 },
 "nbformat": 4,
 "nbformat_minor": 0
}
