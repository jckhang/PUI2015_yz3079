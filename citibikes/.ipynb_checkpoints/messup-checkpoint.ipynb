{
 "cells": [
  {
   "cell_type": "markdown",
   "metadata": {},
   "source": [
    "# This is the draft for assignment 3 HW3\n",
    "# Just mess it up and write everything you have thought of the problem"
   ]
  },
  {
   "cell_type": "code",
   "execution_count": null,
   "metadata": {
    "collapsed": false
   },
   "outputs": [],
   "source": [
    "import pylab as pl\n",
    "import pandas as pd\n",
    "import numpy as np\n",
    "%pylab inline\n",
    "import os\n",
    "import json\n",
    "s = json.load( open(os.getenv ('PUI2015')+\"/fbb_matplotlibrc.json\") )\n",
    "pl.rcParams.update(s)"
   ]
  },
  {
   "cell_type": "code",
   "execution_count": null,
   "metadata": {
    "collapsed": false
   },
   "outputs": [],
   "source": [
    "df=pd.read_csv(os.getenv ('PUI2015')+'/data/201508-citibike-tripdata.csv')\n",
    "df['date'] = pd.to_datetime(df['starttime'])"
   ]
  },
  {
   "cell_type": "code",
   "execution_count": null,
   "metadata": {
    "collapsed": false
   },
   "outputs": [],
   "source": [
    "df.drop('tripduration',1)\n",
    "df.drop('starttime',1)\n",
    "df.drop('stoptime',1)"
   ]
  },
  {
   "cell_type": "code",
   "execution_count": null,
   "metadata": {
    "collapsed": false
   },
   "outputs": [],
   "source": [
    "## Summary of all the stations\n"
   ]
  },
  {
   "cell_type": "code",
   "execution_count": null,
   "metadata": {
    "collapsed": false
   },
   "outputs": [],
   "source": [
    "## We store the information of stations in to a csv file. including longitude latitude, and id\n",
    "start=pd.DataFrame({'id': df['start station id'], \\\n",
    "                    'lat': df['start station latitude'],\\\n",
    "                    'lon':df['start station longitude']})\n",
    "end=pd.DataFrame({'id': df['end station id'], \\\n",
    "                    'lat': df['end station latitude'],\\\n",
    "                    'lon':df['end station longitude']})\n",
    "merged=pd.concat([start,end],axis=0)\n",
    "merged.drop_duplicates\n",
    "merged.sort\n",
    "#stations=pd.DataFrame([df['start station id'], df['start station latitude'], df['start station longitude']])"
   ]
  },
  {
   "cell_type": "code",
   "execution_count": null,
   "metadata": {
    "collapsed": false
   },
   "outputs": [],
   "source": [
    "## We analyze the station location \n",
    "for i in merged['id']:\n",
    "    "
   ]
  },
  {
   "cell_type": "code",
   "execution_count": null,
   "metadata": {
    "collapsed": false,
    "scrolled": true
   },
   "outputs": [],
   "source": [
    "## record the numberes of incoming and outcoming journeys.\n",
    "## fluid_ratio=incoming journeys/incoming+outcoming\n",
    "in_group=df.groupby('start station id')\n",
    "out_group=df.groupby('end station id')\n",
    "in_jour=in_group.size()\n",
    "out_jour=out_group.size()\n",
    "fluid_ratio=in_jour/out_jour\n",
    "print in_jour\n",
    "print out_jour"
   ]
  },
  {
   "cell_type": "code",
   "execution_count": null,
   "metadata": {
    "collapsed": true
   },
   "outputs": [],
   "source": [
    "def income_count():\n",
    "    \n",
    "def outcome_count():"
   ]
  },
  {
   "cell_type": "code",
   "execution_count": null,
   "metadata": {
    "collapsed": false
   },
   "outputs": [],
   "source": [
    "#grouped=df.groupby('bikeid')\n",
    "#print df[df['bikeid']==14529]['tripduration']"
   ]
  },
  {
   "cell_type": "code",
   "execution_count": null,
   "metadata": {
    "collapsed": false
   },
   "outputs": [],
   "source": [
    "\n",
    "location = geolocator.reverse(\"40.739713, -73.994564\")\n",
    "print(location.address)\n",
    "print((location.latitude, location.longitude))"
   ]
  },
  {
   "cell_type": "code",
   "execution_count": null,
   "metadata": {
    "collapsed": false
   },
   "outputs": [],
   "source": [
    "print(location.raw['address']['county'])"
   ]
  }
 ],
 "metadata": {
  "kernelspec": {
   "display_name": "Python 2",
   "language": "python",
   "name": "python2"
  },
  "language_info": {
   "codemirror_mode": {
    "name": "ipython",
    "version": 2
   },
   "file_extension": ".py",
   "mimetype": "text/x-python",
   "name": "python",
   "nbconvert_exporter": "python",
   "pygments_lexer": "ipython2",
   "version": "2.7.10"
  }
 },
 "nbformat": 4,
 "nbformat_minor": 0
}
